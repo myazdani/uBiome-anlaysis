{
 "cells": [
  {
   "cell_type": "code",
   "execution_count": 1,
   "metadata": {
    "collapsed": true
   },
   "outputs": [],
   "source": [
    "from ImgMapper import *\n",
    "from sklearn.decomposition import PCA\n",
    "import pandas as pd\n",
    "from PIL import Image\n",
    "from pylab import *"
   ]
  },
  {
   "cell_type": "code",
   "execution_count": 2,
   "metadata": {
    "collapsed": true
   },
   "outputs": [],
   "source": [
    "df = pd.read_csv(\"pairwise_diff_imgs.csv\")"
   ]
  },
  {
   "cell_type": "code",
   "execution_count": 3,
   "metadata": {
    "collapsed": true
   },
   "outputs": [],
   "source": [
    "from io import BytesIO\n",
    "from scipy.misc import imsave, toimage\n",
    "import base64\n",
    "tooltip_s = []"
   ]
  },
  {
   "cell_type": "code",
   "execution_count": 4,
   "metadata": {
    "collapsed": true
   },
   "outputs": [],
   "source": [
    "image_paths = list(df.image_paths)"
   ]
  },
  {
   "cell_type": "code",
   "execution_count": 5,
   "metadata": {
    "collapsed": true
   },
   "outputs": [],
   "source": [
    "for image_path in image_paths:\n",
    "  output = BytesIO()\n",
    "  #img = toimage(image_data.reshape((28,28))) # Data was a flat row of 64 \"pixels\".\n",
    "  img = Image.open(image_path).resize((100,100))\n",
    "  img.save(output, format=\"PNG\")\n",
    "  contents = \"<img src='data:image/png;base64,\"+base64.encodestring(output.getvalue()).decode()+\"'>\"\n",
    "  tooltip_s.append( contents )\n",
    "  output.close()"
   ]
  },
  {
   "cell_type": "code",
   "execution_count": 6,
   "metadata": {
    "collapsed": true
   },
   "outputs": [],
   "source": [
    "tooltip_s = np.array(tooltip_s) "
   ]
  },
  {
   "cell_type": "code",
   "execution_count": null,
   "metadata": {
    "collapsed": true
   },
   "outputs": [],
   "source": [
    "set(['date.difference', 'mag.dist', 'date.diff', \"image_paths\"])"
   ]
  },
  {
   "cell_type": "code",
   "execution_count": 16,
   "metadata": {
    "collapsed": false
   },
   "outputs": [],
   "source": [
    "data = df.drop(['date.difference', 'mag.dist', 'date.diff', \"image_paths\"], axis = 1)"
   ]
  },
  {
   "cell_type": "code",
   "execution_count": 17,
   "metadata": {
    "collapsed": false
   },
   "outputs": [
    {
     "data": {
      "text/plain": [
       "(561, 142)"
      ]
     },
     "execution_count": 17,
     "metadata": {},
     "output_type": "execute_result"
    }
   ],
   "source": [
    "data.shape"
   ]
  },
  {
   "cell_type": "code",
   "execution_count": 18,
   "metadata": {
    "collapsed": false
   },
   "outputs": [
    {
     "name": "stdout",
     "output_type": "stream",
     "text": [
      "\n",
      "nr_cubes = 30 \n",
      "\n",
      "overlap_perc = 0.9\n",
      "\n",
      "link_local = False\n",
      "\n",
      "Clusterer = DBSCAN(algorithm='auto', eps=0.2, leaf_size=30, metric='euclidean',\n",
      "    min_samples=5, p=None, random_state=None)\n",
      "\n",
      "Scaler = MinMaxScaler(copy=True, feature_range=(0, 1))\n",
      "\n",
      "\n"
     ]
    }
   ],
   "source": [
    "mapper = KeplerMapper(cluster_algorithm=cluster.DBSCAN(eps=0.2, min_samples=5), \n",
    "             reducer = manifold.TSNE(), nr_cubes=30, overlap_perc=0.9, \n",
    "             link_local=False, verbose=1)"
   ]
  },
  {
   "cell_type": "code",
   "execution_count": 20,
   "metadata": {
    "collapsed": false
   },
   "outputs": [
    {
     "name": "stdout",
     "output_type": "stream",
     "text": [
      "\n",
      "..Reducing Dimensionality using: \n",
      "\tTSNE(early_exaggeration=4.0, init='random', learning_rate=1000.0,\n",
      "   metric='euclidean', n_components=2, n_iter=1000, perplexity=30.0,\n",
      "   random_state=None, verbose=1)\n",
      "\n",
      "[t-SNE] Computing pairwise distances...\n",
      "[t-SNE] Computed conditional probabilities for sample 561 / 561\n",
      "[t-SNE] Mean sigma: 0.067387\n",
      "[t-SNE] Error after 83 iterations with early exaggeration: 11.967714\n",
      "[t-SNE] Error after 163 iterations: 0.369705\n",
      "\n",
      "..Scaling\n",
      "\n",
      "Mapping on data shaped (561, 2) using dimensions [0, 1]\n",
      "\n",
      "Creating 900 hypercubes.\n",
      "\n",
      "created 872 edges and 194 nodes in 0:00:00.807409.\n",
      "\n",
      "Wrote d3.js graph to 'results.html'\n"
     ]
    }
   ],
   "source": [
    "# Fit and transform data\n",
    "data = mapper.fit_transform(data)\n",
    "\n",
    "# Create the graph\n",
    "complex = mapper.map(data, dimension_index=[0,1], dimension_name=\"t-SNE(2) 2D\")\n",
    "\n",
    "# Create the visualizations (increased the graph_gravity for a tighter graph-look.)\n",
    "\n",
    "# Tooltips with image data for every cluster member\n",
    "mapper.visualize(complex, \"results.html\", \"t-SNE on Pairwise Diff of High Abundant Genus (bad dates removed)\", graph_charge=-50, graph_gravity=0.15, custom_tooltips=tooltip_s)"
   ]
  },
  {
   "cell_type": "code",
   "execution_count": null,
   "metadata": {
    "collapsed": true
   },
   "outputs": [],
   "source": []
  }
 ],
 "metadata": {
  "kernelspec": {
   "display_name": "Python 2",
   "language": "python",
   "name": "python2"
  },
  "language_info": {
   "codemirror_mode": {
    "name": "ipython",
    "version": 2
   },
   "file_extension": ".py",
   "mimetype": "text/x-python",
   "name": "python",
   "nbconvert_exporter": "python",
   "pygments_lexer": "ipython2",
   "version": "2.7.10"
  }
 },
 "nbformat": 4,
 "nbformat_minor": 0
}
