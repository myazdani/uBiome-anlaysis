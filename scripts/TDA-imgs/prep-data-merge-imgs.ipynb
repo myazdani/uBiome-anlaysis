{
 "cells": [
  {
   "cell_type": "code",
   "execution_count": 4,
   "metadata": {
    "collapsed": true
   },
   "outputs": [],
   "source": [
    "import pandas as pd\n",
    "import os\n",
    "from pylab import *"
   ]
  },
  {
   "cell_type": "code",
   "execution_count": 2,
   "metadata": {
    "collapsed": true
   },
   "outputs": [],
   "source": [
    "src_path = \"./imgs/\"\n",
    "\n",
    "# ## Get image paths and setup chunk paths:\n",
    "\n",
    "image_type = (\".png\", \".jpg\", \".JPG\", \".jpeg\", \".PNG\")\n",
    " \n",
    "image_paths = []  \n",
    "for root, dirs, files in os.walk(src_path):\n",
    "    image_paths.extend([os.path.join(root, f) for f in files if f.endswith(image_type)])"
   ]
  },
  {
   "cell_type": "code",
   "execution_count": 5,
   "metadata": {
    "collapsed": false
   },
   "outputs": [],
   "source": [
    "df = pd.DataFrame({\"image_paths\": array(image_paths)})"
   ]
  },
  {
   "cell_type": "code",
   "execution_count": 13,
   "metadata": {
    "collapsed": false
   },
   "outputs": [],
   "source": [
    "df[\"date.diff\"] = [image_path.split(\"imgs/\")[-1].split(\".png\")[0] for image_path in image_paths]"
   ]
  },
  {
   "cell_type": "code",
   "execution_count": 12,
   "metadata": {
    "collapsed": false
   },
   "outputs": [
    {
     "data": {
      "text/plain": [
       "'2012-04-03 - 2012-08-07'"
      ]
     },
     "execution_count": 12,
     "metadata": {},
     "output_type": "execute_result"
    }
   ],
   "source": [
    "image_paths[0].split(\"imgs/\")[-1].split(\".png\")[0]"
   ]
  },
  {
   "cell_type": "code",
   "execution_count": 15,
   "metadata": {
    "collapsed": false
   },
   "outputs": [
    {
     "data": {
      "text/html": [
       "<div>\n",
       "<table border=\"1\" class=\"dataframe\">\n",
       "  <thead>\n",
       "    <tr style=\"text-align: right;\">\n",
       "      <th></th>\n",
       "      <th>image_paths</th>\n",
       "      <th>date.diff</th>\n",
       "    </tr>\n",
       "  </thead>\n",
       "  <tbody>\n",
       "    <tr>\n",
       "      <th>0</th>\n",
       "      <td>./imgs/2012-04-03 - 2012-08-07.png</td>\n",
       "      <td>2012-04-03 - 2012-08-07</td>\n",
       "    </tr>\n",
       "    <tr>\n",
       "      <th>1</th>\n",
       "      <td>./imgs/2012-04-03 - 2012-11-06.png</td>\n",
       "      <td>2012-04-03 - 2012-11-06</td>\n",
       "    </tr>\n",
       "    <tr>\n",
       "      <th>2</th>\n",
       "      <td>./imgs/2012-04-03 - 2013-01-26.png</td>\n",
       "      <td>2012-04-03 - 2013-01-26</td>\n",
       "    </tr>\n",
       "    <tr>\n",
       "      <th>3</th>\n",
       "      <td>./imgs/2012-04-03 - 2013-02-25.png</td>\n",
       "      <td>2012-04-03 - 2013-02-25</td>\n",
       "    </tr>\n",
       "    <tr>\n",
       "      <th>4</th>\n",
       "      <td>./imgs/2012-04-03 - 2013-03-24.png</td>\n",
       "      <td>2012-04-03 - 2013-03-24</td>\n",
       "    </tr>\n",
       "  </tbody>\n",
       "</table>\n",
       "</div>"
      ],
      "text/plain": [
       "                          image_paths                date.diff\n",
       "0  ./imgs/2012-04-03 - 2012-08-07.png  2012-04-03 - 2012-08-07\n",
       "1  ./imgs/2012-04-03 - 2012-11-06.png  2012-04-03 - 2012-11-06\n",
       "2  ./imgs/2012-04-03 - 2013-01-26.png  2012-04-03 - 2013-01-26\n",
       "3  ./imgs/2012-04-03 - 2013-02-25.png  2012-04-03 - 2013-02-25\n",
       "4  ./imgs/2012-04-03 - 2013-03-24.png  2012-04-03 - 2013-03-24"
      ]
     },
     "execution_count": 15,
     "metadata": {},
     "output_type": "execute_result"
    }
   ],
   "source": [
    "df.head()"
   ]
  },
  {
   "cell_type": "code",
   "execution_count": 17,
   "metadata": {
    "collapsed": false
   },
   "outputs": [],
   "source": [
    "pairs_df = pd.read_csv(\"../../processedData/pairwise-differences/genus-pairwise-time-diff-high-abundant-BAD-DATES-REMOVED.csv\")"
   ]
  },
  {
   "cell_type": "code",
   "execution_count": 18,
   "metadata": {
    "collapsed": false
   },
   "outputs": [
    {
     "data": {
      "text/html": [
       "<div>\n",
       "<table border=\"1\" class=\"dataframe\">\n",
       "  <thead>\n",
       "    <tr style=\"text-align: right;\">\n",
       "      <th></th>\n",
       "      <th>date.difference</th>\n",
       "      <th>mag.dist</th>\n",
       "      <th>date.diff</th>\n",
       "      <th>Hydrogenoanaerobacterium</th>\n",
       "      <th>Granulicatella</th>\n",
       "      <th>Coprococcus</th>\n",
       "      <th>Phascolarctobacterium</th>\n",
       "      <th>Victivallis</th>\n",
       "      <th>Dorea</th>\n",
       "      <th>Desulfosporosinus</th>\n",
       "      <th>...</th>\n",
       "      <th>Rahnella</th>\n",
       "      <th>Hafnia</th>\n",
       "      <th>Yersinia</th>\n",
       "      <th>Francisella</th>\n",
       "      <th>Methylobacter</th>\n",
       "      <th>Rhodobacter</th>\n",
       "      <th>Dechloromarinus</th>\n",
       "      <th>Ewingella</th>\n",
       "      <th>Thermus</th>\n",
       "      <th>Nitrosomonas</th>\n",
       "    </tr>\n",
       "  </thead>\n",
       "  <tbody>\n",
       "    <tr>\n",
       "      <th>0</th>\n",
       "      <td>467</td>\n",
       "      <td>0.715959</td>\n",
       "      <td>2012-04-03 - 2013-07-14</td>\n",
       "      <td>0</td>\n",
       "      <td>0</td>\n",
       "      <td>0.001145</td>\n",
       "      <td>0.006248</td>\n",
       "      <td>0.000018</td>\n",
       "      <td>0.000424</td>\n",
       "      <td>0.000000</td>\n",
       "      <td>...</td>\n",
       "      <td>0</td>\n",
       "      <td>0</td>\n",
       "      <td>0.000000</td>\n",
       "      <td>0</td>\n",
       "      <td>0</td>\n",
       "      <td>0</td>\n",
       "      <td>0</td>\n",
       "      <td>0.000000</td>\n",
       "      <td>0</td>\n",
       "      <td>0</td>\n",
       "    </tr>\n",
       "    <tr>\n",
       "      <th>1</th>\n",
       "      <td>494</td>\n",
       "      <td>0.627268</td>\n",
       "      <td>2012-04-03 - 2013-08-10</td>\n",
       "      <td>0</td>\n",
       "      <td>0</td>\n",
       "      <td>0.000889</td>\n",
       "      <td>0.003382</td>\n",
       "      <td>0.000207</td>\n",
       "      <td>0.003190</td>\n",
       "      <td>0.000000</td>\n",
       "      <td>...</td>\n",
       "      <td>0</td>\n",
       "      <td>0</td>\n",
       "      <td>0.000008</td>\n",
       "      <td>0</td>\n",
       "      <td>0</td>\n",
       "      <td>0</td>\n",
       "      <td>0</td>\n",
       "      <td>0.000000</td>\n",
       "      <td>0</td>\n",
       "      <td>0</td>\n",
       "    </tr>\n",
       "    <tr>\n",
       "      <th>2</th>\n",
       "      <td>518</td>\n",
       "      <td>0.562961</td>\n",
       "      <td>2012-04-03 - 2013-09-03</td>\n",
       "      <td>0</td>\n",
       "      <td>0</td>\n",
       "      <td>0.000876</td>\n",
       "      <td>0.001851</td>\n",
       "      <td>0.000361</td>\n",
       "      <td>0.003758</td>\n",
       "      <td>0.000000</td>\n",
       "      <td>...</td>\n",
       "      <td>0</td>\n",
       "      <td>0</td>\n",
       "      <td>0.000000</td>\n",
       "      <td>0</td>\n",
       "      <td>0</td>\n",
       "      <td>0</td>\n",
       "      <td>0</td>\n",
       "      <td>0.000019</td>\n",
       "      <td>0</td>\n",
       "      <td>0</td>\n",
       "    </tr>\n",
       "    <tr>\n",
       "      <th>3</th>\n",
       "      <td>539</td>\n",
       "      <td>0.611308</td>\n",
       "      <td>2012-04-03 - 2013-09-24</td>\n",
       "      <td>0</td>\n",
       "      <td>0</td>\n",
       "      <td>0.000048</td>\n",
       "      <td>0.003147</td>\n",
       "      <td>0.000382</td>\n",
       "      <td>0.000529</td>\n",
       "      <td>0.000032</td>\n",
       "      <td>...</td>\n",
       "      <td>0</td>\n",
       "      <td>0</td>\n",
       "      <td>0.000000</td>\n",
       "      <td>0</td>\n",
       "      <td>0</td>\n",
       "      <td>0</td>\n",
       "      <td>0</td>\n",
       "      <td>0.000000</td>\n",
       "      <td>0</td>\n",
       "      <td>0</td>\n",
       "    </tr>\n",
       "    <tr>\n",
       "      <th>4</th>\n",
       "      <td>572</td>\n",
       "      <td>0.822889</td>\n",
       "      <td>2012-04-03 - 2013-10-27</td>\n",
       "      <td>0</td>\n",
       "      <td>0</td>\n",
       "      <td>0.005938</td>\n",
       "      <td>0.001723</td>\n",
       "      <td>0.000123</td>\n",
       "      <td>0.010460</td>\n",
       "      <td>0.000000</td>\n",
       "      <td>...</td>\n",
       "      <td>0</td>\n",
       "      <td>0</td>\n",
       "      <td>0.000000</td>\n",
       "      <td>0</td>\n",
       "      <td>0</td>\n",
       "      <td>0</td>\n",
       "      <td>0</td>\n",
       "      <td>0.000000</td>\n",
       "      <td>0</td>\n",
       "      <td>0</td>\n",
       "    </tr>\n",
       "  </tbody>\n",
       "</table>\n",
       "<p>5 rows × 145 columns</p>\n",
       "</div>"
      ],
      "text/plain": [
       "   date.difference  mag.dist                date.diff  \\\n",
       "0              467  0.715959  2012-04-03 - 2013-07-14   \n",
       "1              494  0.627268  2012-04-03 - 2013-08-10   \n",
       "2              518  0.562961  2012-04-03 - 2013-09-03   \n",
       "3              539  0.611308  2012-04-03 - 2013-09-24   \n",
       "4              572  0.822889  2012-04-03 - 2013-10-27   \n",
       "\n",
       "   Hydrogenoanaerobacterium  Granulicatella  Coprococcus  \\\n",
       "0                         0               0     0.001145   \n",
       "1                         0               0     0.000889   \n",
       "2                         0               0     0.000876   \n",
       "3                         0               0     0.000048   \n",
       "4                         0               0     0.005938   \n",
       "\n",
       "   Phascolarctobacterium  Victivallis     Dorea  Desulfosporosinus  \\\n",
       "0               0.006248     0.000018  0.000424           0.000000   \n",
       "1               0.003382     0.000207  0.003190           0.000000   \n",
       "2               0.001851     0.000361  0.003758           0.000000   \n",
       "3               0.003147     0.000382  0.000529           0.000032   \n",
       "4               0.001723     0.000123  0.010460           0.000000   \n",
       "\n",
       "       ...       Rahnella  Hafnia  Yersinia  Francisella  Methylobacter  \\\n",
       "0      ...              0       0  0.000000            0              0   \n",
       "1      ...              0       0  0.000008            0              0   \n",
       "2      ...              0       0  0.000000            0              0   \n",
       "3      ...              0       0  0.000000            0              0   \n",
       "4      ...              0       0  0.000000            0              0   \n",
       "\n",
       "   Rhodobacter  Dechloromarinus  Ewingella  Thermus  Nitrosomonas  \n",
       "0            0                0   0.000000        0             0  \n",
       "1            0                0   0.000000        0             0  \n",
       "2            0                0   0.000019        0             0  \n",
       "3            0                0   0.000000        0             0  \n",
       "4            0                0   0.000000        0             0  \n",
       "\n",
       "[5 rows x 145 columns]"
      ]
     },
     "execution_count": 18,
     "metadata": {},
     "output_type": "execute_result"
    }
   ],
   "source": [
    "pairs_df.head()"
   ]
  },
  {
   "cell_type": "code",
   "execution_count": 19,
   "metadata": {
    "collapsed": true
   },
   "outputs": [],
   "source": [
    "res = pd.merge(pairs_df, df)"
   ]
  },
  {
   "cell_type": "code",
   "execution_count": 22,
   "metadata": {
    "collapsed": false
   },
   "outputs": [
    {
     "data": {
      "text/plain": [
       "(561, 146)"
      ]
     },
     "execution_count": 22,
     "metadata": {},
     "output_type": "execute_result"
    }
   ],
   "source": [
    "res.shape"
   ]
  },
  {
   "cell_type": "code",
   "execution_count": 24,
   "metadata": {
    "collapsed": false
   },
   "outputs": [
    {
     "data": {
      "text/plain": [
       "(561, 145)"
      ]
     },
     "execution_count": 24,
     "metadata": {},
     "output_type": "execute_result"
    }
   ],
   "source": [
    "pairs_df.shape"
   ]
  },
  {
   "cell_type": "code",
   "execution_count": 25,
   "metadata": {
    "collapsed": false
   },
   "outputs": [
    {
     "data": {
      "text/plain": [
       "(561, 2)"
      ]
     },
     "execution_count": 25,
     "metadata": {},
     "output_type": "execute_result"
    }
   ],
   "source": [
    "df.shape"
   ]
  },
  {
   "cell_type": "code",
   "execution_count": 30,
   "metadata": {
    "collapsed": false
   },
   "outputs": [],
   "source": [
    "microbiome_cols = array(set(res.columns.values) - set(['date.difference', 'mag.dist', 'date.diff','image_paths']))"
   ]
  },
  {
   "cell_type": "code",
   "execution_count": 28,
   "metadata": {
    "collapsed": false
   },
   "outputs": [
    {
     "data": {
      "text/html": [
       "<div>\n",
       "<table border=\"1\" class=\"dataframe\">\n",
       "  <thead>\n",
       "    <tr style=\"text-align: right;\">\n",
       "      <th></th>\n",
       "      <th>date.difference</th>\n",
       "      <th>mag.dist</th>\n",
       "      <th>date.diff</th>\n",
       "    </tr>\n",
       "  </thead>\n",
       "  <tbody>\n",
       "    <tr>\n",
       "      <th>0</th>\n",
       "      <td>467</td>\n",
       "      <td>0.715959</td>\n",
       "      <td>2012-04-03 - 2013-07-14</td>\n",
       "    </tr>\n",
       "    <tr>\n",
       "      <th>1</th>\n",
       "      <td>494</td>\n",
       "      <td>0.627268</td>\n",
       "      <td>2012-04-03 - 2013-08-10</td>\n",
       "    </tr>\n",
       "    <tr>\n",
       "      <th>2</th>\n",
       "      <td>518</td>\n",
       "      <td>0.562961</td>\n",
       "      <td>2012-04-03 - 2013-09-03</td>\n",
       "    </tr>\n",
       "    <tr>\n",
       "      <th>3</th>\n",
       "      <td>539</td>\n",
       "      <td>0.611308</td>\n",
       "      <td>2012-04-03 - 2013-09-24</td>\n",
       "    </tr>\n",
       "    <tr>\n",
       "      <th>4</th>\n",
       "      <td>572</td>\n",
       "      <td>0.822889</td>\n",
       "      <td>2012-04-03 - 2013-10-27</td>\n",
       "    </tr>\n",
       "  </tbody>\n",
       "</table>\n",
       "</div>"
      ],
      "text/plain": [
       "   date.difference  mag.dist                date.diff\n",
       "0              467  0.715959  2012-04-03 - 2013-07-14\n",
       "1              494  0.627268  2012-04-03 - 2013-08-10\n",
       "2              518  0.562961  2012-04-03 - 2013-09-03\n",
       "3              539  0.611308  2012-04-03 - 2013-09-24\n",
       "4              572  0.822889  2012-04-03 - 2013-10-27"
      ]
     },
     "execution_count": 28,
     "metadata": {},
     "output_type": "execute_result"
    }
   ],
   "source": [
    "res[['date.difference', 'mag.dist', 'date.diff']].head()"
   ]
  },
  {
   "cell_type": "code",
   "execution_count": 32,
   "metadata": {
    "collapsed": true
   },
   "outputs": [],
   "source": [
    "res.to_csv(\"pairwise_diff_imgs.csv\", index=False)"
   ]
  },
  {
   "cell_type": "code",
   "execution_count": null,
   "metadata": {
    "collapsed": true
   },
   "outputs": [],
   "source": []
  }
 ],
 "metadata": {
  "kernelspec": {
   "display_name": "Python 2",
   "language": "python",
   "name": "python2"
  },
  "language_info": {
   "codemirror_mode": {
    "name": "ipython",
    "version": 2
   },
   "file_extension": ".py",
   "mimetype": "text/x-python",
   "name": "python",
   "nbconvert_exporter": "python",
   "pygments_lexer": "ipython2",
   "version": "2.7.10"
  }
 },
 "nbformat": 4,
 "nbformat_minor": 0
}
